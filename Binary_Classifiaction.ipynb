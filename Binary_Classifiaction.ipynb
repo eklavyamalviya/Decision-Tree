{
  "nbformat": 4,
  "nbformat_minor": 0,
  "metadata": {
    "colab": {
      "name": "Binary Classifiaction.ipynb",
      "provenance": [],
      "collapsed_sections": []
    },
    "kernelspec": {
      "name": "python3",
      "display_name": "Python 3"
    },
    "language_info": {
      "name": "python"
    }
  },
  "cells": [
    {
      "cell_type": "code",
      "metadata": {
        "id": "0xLm7ykLfrKF",
        "colab": {
          "base_uri": "https://localhost:8080/"
        },
        "outputId": "606adb1b-cbc6-4c33-c696-0eeb334dc5fa"
      },
      "source": [
        "import sklearn\n",
        "from sklearn import tree\n",
        "\n",
        "features = [[2,300],[2,450],[8,200],[9,150]]\n",
        "label=['sports-car','sports-car','Minivan','Minivan']\n",
        "check = tree.DecisionTreeClassifier()\n",
        "check=check.fit(features,label)\n",
        "print(check.predict([[1,200]]))"
      ],
      "execution_count": null,
      "outputs": [
        {
          "output_type": "stream",
          "text": [
            "['sports-car']\n"
          ],
          "name": "stdout"
        }
      ]
    },
    {
      "cell_type": "code",
      "metadata": {
        "id": "wtyk4DvXkaB-"
      },
      "source": [
        "import sklearn\n",
        "from sklearn import tree"
      ],
      "execution_count": null,
      "outputs": []
    },
    {
      "cell_type": "code",
      "metadata": {
        "id": "LHGzE0uMhMLX"
      },
      "source": [
        "features = [[2,300],[2,450],[8,200],[9,150]]\n",
        "label=['sports-car','sports-car','Minivan','Minivan']"
      ],
      "execution_count": null,
      "outputs": []
    },
    {
      "cell_type": "code",
      "metadata": {
        "id": "7HgKGOSIhRn0"
      },
      "source": [
        "check = tree.DecisionTreeClassifier()"
      ],
      "execution_count": null,
      "outputs": []
    },
    {
      "cell_type": "code",
      "metadata": {
        "id": "fDyoN36eiFLt"
      },
      "source": [
        "check=check.fit(features,label)"
      ],
      "execution_count": null,
      "outputs": []
    },
    {
      "cell_type": "code",
      "metadata": {
        "colab": {
          "base_uri": "https://localhost:8080/"
        },
        "id": "NhcFniEwiZhA",
        "outputId": "ed4510af-ced2-42ef-f1a0-c5c38861c79f"
      },
      "source": [
        "print(check.predict([[8,50]]))"
      ],
      "execution_count": null,
      "outputs": [
        {
          "output_type": "stream",
          "text": [
            "['Minivan']\n"
          ],
          "name": "stdout"
        }
      ]
    }
  ]
}